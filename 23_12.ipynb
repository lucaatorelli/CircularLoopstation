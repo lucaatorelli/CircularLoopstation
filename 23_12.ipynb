{
  "nbformat": 4,
  "nbformat_minor": 0,
  "metadata": {
    "colab": {
      "name": "23/12.ipynb",
      "provenance": [],
      "collapsed_sections": [
        "cZP72_hmIxYj"
      ],
      "toc_visible": true,
      "authorship_tag": "ABX9TyPmubc3sAa/gxoqvKNCz8qi",
      "include_colab_link": true
    },
    "kernelspec": {
      "name": "python3",
      "display_name": "Python 3"
    }
  },
  "cells": [
    {
      "cell_type": "markdown",
      "metadata": {
        "id": "view-in-github",
        "colab_type": "text"
      },
      "source": [
        "<a href=\"https://colab.research.google.com/github/lucaatorelli/CircularLoopstation/blob/master/23_12.ipynb\" target=\"_parent\"><img src=\"https://colab.research.google.com/assets/colab-badge.svg\" alt=\"Open In Colab\"/></a>"
      ]
    },
    {
      "cell_type": "markdown",
      "metadata": {
        "id": "3MRJ9IzhjuWa"
      },
      "source": [
        "#CPAC - P2 - Synesthetic Profile (Prototype)"
      ]
    },
    {
      "cell_type": "markdown",
      "metadata": {
        "id": "qTgtmb2Dj3Q6"
      },
      "source": [
        "##**Setup**"
      ]
    },
    {
      "cell_type": "code",
      "metadata": {
        "id": "TeS1hez9ezU5"
      },
      "source": [
        "import os\r\n",
        "import json\r\n",
        "import time\r\n",
        "import requests\r\n",
        "import numpy as np\r\n",
        "import sklearn\r\n",
        "from sklearn.cluster import KMeans\r\n",
        "import matplotlib\r\n",
        "import matplotlib.pyplot as plt\r\n",
        "\r\n",
        "from mpl_toolkits.mplot3d import Axes3D\r\n",
        "import plotly.graph_objs as go\r\n",
        "from plotly import tools\r\n",
        "from plotly.subplots import make_subplots\r\n",
        "import plotly.offline as py\r\n",
        "from skimage import color"
      ],
      "execution_count": null,
      "outputs": []
    },
    {
      "cell_type": "code",
      "metadata": {
        "colab": {
          "base_uri": "https://localhost:8080/"
        },
        "id": "FxOFPCJIingo",
        "outputId": "b9062822-9003-4841-ad2e-7fad262e3201"
      },
      "source": [
        "#Directory check\r\n",
        "if os.getcwd() is not '/content': os.chdir('/content')\r\n",
        "cd = os.getcwd()\r\n",
        "print (\"The current working directory is %s\" % cd)"
      ],
      "execution_count": null,
      "outputs": [
        {
          "output_type": "stream",
          "text": [
            "The current working directory is /content\n"
          ],
          "name": "stdout"
        }
      ]
    },
    {
      "cell_type": "markdown",
      "metadata": {
        "id": "JI53Pu5seVVu"
      },
      "source": [
        "###Spotify token for audio analysis"
      ]
    },
    {
      "cell_type": "code",
      "metadata": {
        "id": "b3e5pt0ae6vw",
        "colab": {
          "base_uri": "https://localhost:8080/"
        },
        "outputId": "10659a10-0921-4458-ad98-5e62390376bb"
      },
      "source": [
        "# %% Let's start with the token\r\n",
        "# 1) go to https://developer.spotify.com/console/get-audio-analysis-track/?id=06AKEBrKUckW0KREUWRnvT\r\n",
        "# 2) press \"try it\"\r\n",
        "# 3) login\r\n",
        "# 4) agree \r\n",
        "# 5) execute this cell and give the script the token (see above)\r\n",
        "\r\n",
        "token=input(\"Give me the token\\n\")\r\n",
        "header={\"Authorization\": \"Bearer %s\"%token}"
      ],
      "execution_count": null,
      "outputs": [
        {
          "output_type": "stream",
          "text": [
            "Give me the token\n",
            "BQBmpUyw5XSVWetgR7X8Ot512X5QeTstdiUedWsC59hPHAgLa3ynsy8rWTIF-ZVA_fGoT6ZgdhvF0HooOrSGeNJ9zJmJ_0ouQyN4pFWNQaPES01a1ByA7ZZw9AQlne4cYjdG8ZM5DwS2IApkT9JxOhWWs6xtoWsxUuh7xacXoKaJXExISZZph_icckE46R2ZW6NM7MuC\n"
          ],
          "name": "stdout"
        }
      ]
    },
    {
      "cell_type": "markdown",
      "metadata": {
        "id": "eg5c_nKUegqn"
      },
      "source": [
        "###Dataset reading"
      ]
    },
    {
      "cell_type": "code",
      "metadata": {
        "id": "lvD1GwV3fDlX"
      },
      "source": [
        "Dataset_name = \"Songlist-Luca.json\" #Write here the name of your dataset\r\n",
        "\r\n",
        "assert os.path.exists(Dataset_name), \"Please put here a list of songs\"\r\n",
        "\r\n",
        "with open(Dataset_name,'r') as fp:\r\n",
        "    songs=json.load(fp)[\"songs\"]"
      ],
      "execution_count": null,
      "outputs": []
    },
    {
      "cell_type": "markdown",
      "metadata": {
        "id": "EfixJxEskBKH"
      },
      "source": [
        "##**Feature extraction**"
      ]
    },
    {
      "cell_type": "code",
      "metadata": {
        "id": "WyRMPFh9fbyH",
        "colab": {
          "base_uri": "https://localhost:8080/"
        },
        "outputId": "662b0791-16d0-4188-a066-dad484dc6ebf"
      },
      "source": [
        "# Get the audio features\r\n",
        "search_url=\"https://api.spotify.com/v1/search\"\r\n",
        "audio_feature_url=\"https://api.spotify.com/v1/audio-features\"\r\n",
        "audio_features=[]\r\n",
        "index = 0\r\n",
        "\r\n",
        "for song in songs:\r\n",
        "    params={\"q\": song[\"artist\"]+\" \"+song[\"title\"], \"type\": \"track\"}\r\n",
        "    req=requests.get(url=search_url, params=params,headers=header)\r\n",
        "    assert req.status_code==200, req.content\r\n",
        "    answer=req.json()    \r\n",
        "    results=answer[\"tracks\"][\"items\"]\r\n",
        "    if len(results)==0:\r\n",
        "        print(\"I couldn't find %s\"%params[\"q\"])\r\n",
        "        continue    \r\n",
        "    params={\"ids\":results[0][\"id\"]}\r\n",
        "    req=requests.get(url=audio_feature_url, params=params, headers=header)\r\n",
        "    assert req.status_code==200, req.content\r\n",
        "    audio_features_song=req.json()[\"audio_features\"][0]\r\n",
        "    audio_features_song[\"title\"]=results[0][\"name\"]\r\n",
        "    audio_features_song[\"artist\"]=results[0][\"artists\"][0][\"name\"]\r\n",
        "    audio_features_song[\"preview_url\"]=results[0][\"preview_url\"] #Retrieve the preview url\r\n",
        "    audio_features.append(audio_features_song)\r\n",
        "\r\n",
        "    print(\"Song:\", song[\"title\"], \"(\" + song[\"artist\"] + \")\")\r\n",
        "\r\n",
        "    #for feature in [\"valence\", \"energy\", \"acousticness\"]:\r\n",
        "        #print(\"%s: %1.f %%\"%(feature, 100*audio_features[index][feature]))\r\n",
        "    \r\n",
        "    index += 1\r\n",
        "    print('\\n')\r\n",
        "\r\n",
        "    time.sleep(1)"
      ],
      "execution_count": null,
      "outputs": [
        {
          "output_type": "stream",
          "text": [
            "Song: Ultralight Beam (Kanye West)\n",
            "\n",
            "\n",
            "Song: Father Stretch My Hands Pt. 1 (Kanye West)\n",
            "\n",
            "\n",
            "Song: Pt. 2 (Kanye West)\n",
            "\n",
            "\n",
            "Song: Famous (Kanye West)\n",
            "\n",
            "\n",
            "Song: Feedback (Kanye West)\n",
            "\n",
            "\n",
            "Song: Low Lights (Kanye West)\n",
            "\n",
            "\n",
            "Song: Highlights (Kanye West)\n",
            "\n",
            "\n",
            "Song: Wolves (Kanye West)\n",
            "\n",
            "\n",
            "Song: 30 Hours (Kanye West)\n",
            "\n",
            "\n",
            "Song: No More Parties In LA (Kanye West)\n",
            "\n",
            "\n",
            "Song: Say You Will (Kanye West)\n",
            "\n",
            "\n",
            "Song: EARFQUAKE (Tyler, The Creator)\n",
            "\n",
            "\n",
            "Song: Whoville (Tyler, The Creator)\n",
            "\n",
            "\n",
            "Song: Lights On (feat. Ryan Beatty & Santigold) (Tyler, The Creator)\n",
            "\n",
            "\n",
            "Song: Hot Chocolate (feat. Jerry Paper) (Tyler, The Creator)\n",
            "\n",
            "\n",
            "Song: Big Bag (Tyler, The Creator)\n",
            "\n",
            "\n",
            "Song: When Gloves Come Off (feat. Ryan Beatty) (Tyler, The Creator)\n",
            "\n",
            "\n",
            "Song: Cindy Lou's Wish (Tyler, The Creator)\n",
            "\n",
            "\n",
            "Song: Who Dat Boy (feat. A$AP Rocky) (Tyler, The Creator)\n",
            "\n",
            "\n",
            "Song: Where This Flower Blooms (feat. Frank Ocean) (Tyler, The Creator)\n",
            "\n",
            "\n",
            "Song: IGOR'S THEME (Tyler, The Creator)\n",
            "\n",
            "\n",
            "Song: Starboy (The Weeknd)\n",
            "\n",
            "\n",
            "Song: I Feel It Coming (The Weeknd)\n",
            "\n",
            "\n",
            "Song: Wasted Times (The Weeknd)\n",
            "\n",
            "\n",
            "Song: In Your Eyes (The Weeknd)\n",
            "\n",
            "\n",
            "Song: Can't Feel My Face (The Weeknd)\n",
            "\n",
            "\n",
            "Song: High For This (The Weeknd)\n",
            "\n",
            "\n",
            "Song: La musica che gira intorno (Ivano Fossati)\n",
            "\n",
            "\n",
            "Song: Il bacio sulla bocca (Ivano Fossati)\n",
            "\n",
            "\n",
            "Song: Mio fratello che guardi il mondo (Ivano Fossati)\n",
            "\n",
            "\n",
            "Song: Vinavil (Giorgio Poi)\n",
            "\n",
            "\n",
            "Song: Stella (Giorgio Poi)\n",
            "\n",
            "\n",
            "Song: Tubature (Giorgio Poi)\n",
            "\n",
            "\n",
            "Song: Napoleone (Giorgio Poi)\n",
            "\n",
            "\n",
            "Song: L'Abbronzatura (Giorgio Poi)\n",
            "\n",
            "\n",
            "Song: Comfortably Numb - 2011 Remastered Version (Pink Floyd)\n",
            "\n",
            "\n",
            "Song: Mother - 2011 Remastered Version (Pink Floyd)\n",
            "\n",
            "\n",
            "Song: Breathe (In The Air) - 2011 Remastered Version (Pink Floyd)\n",
            "\n",
            "\n",
            "Song: Money - 2011 Remastered Version (Pink Floyd)\n",
            "\n",
            "\n",
            "Song: Echoes - 2011 Remastered Version (Pink Floyd)\n",
            "\n",
            "\n",
            "Song: Hey You - 2011 Remastered Version (Pink Floyd)\n",
            "\n",
            "\n",
            "Song: If - 2011 Remastered Version (Pink Floyd)\n",
            "\n",
            "\n",
            "Song: Cayman Islands (Kings Of Convenience)\n",
            "\n",
            "\n",
            "Song: Renegade (Kings Of Convenience)\n",
            "\n",
            "\n",
            "Song: Mrs. Cold (Kings Of Convenience)\n",
            "\n",
            "\n",
            "Song: Homesick (Kings Of Convenience)\n",
            "\n",
            "\n",
            "Song: Rule My World (Kings Of Convenience)\n",
            "\n",
            "\n",
            "Song: Me In You (Kings Of Convenience)\n",
            "\n",
            "\n",
            "Song: Misread (Kings Of Convenience)\n",
            "\n",
            "\n",
            "Song: Call Out My Name (The Weeknd)\n",
            "\n",
            "\n",
            "Song: Stella Cometa (Jovanotti)\n",
            "\n",
            "\n",
            "Song: Oh, Vita! (Jovanotti)\n",
            "\n",
            "\n",
            "Song: Bella (Jovanotti)\n",
            "\n",
            "\n",
            "Song: Ragazzini Per Strada (Jovanotti)\n",
            "\n",
            "\n",
            "Song: In Italia (Jovanotti)\n",
            "\n",
            "\n",
            "Song: Sledgehammer (Peter Gabriel)\n",
            "\n",
            "\n",
            "Song: Don't Give Up (Peter Gabriel)\n",
            "\n",
            "\n",
            "Song: Biko (Peter Gabriel)\n",
            "\n",
            "\n",
            "Song: Blood Of Eden (Peter Gabriel)\n",
            "\n",
            "\n",
            "Song: Burn You Up, Burn You Down (Peter Gabriel)\n",
            "\n",
            "\n",
            "Song: The Cinema Show - Remastered 2008 (Genesis)\n",
            "\n",
            "\n",
            "Song: Dancing With The Moonlit Knight - Remastered 2008 (Genesis)\n",
            "\n",
            "\n",
            "Song: Firth Of Fifth - Remastered 2008 (Genesis)\n",
            "\n",
            "\n",
            "Song: The Battle Of Epping Forest - Remastered 2008 (Genesis)\n",
            "\n",
            "\n",
            "Song: I Know What I Like (In Your Wardrobe) - Remastered 2008 (Genesis)\n",
            "\n",
            "\n",
            "Song: Holocene (Bon Iver)\n",
            "\n",
            "\n",
            "Song: Perth (Bon Iver)\n",
            "\n",
            "\n",
            "Song: Hey, Ma (Bon Iver)\n",
            "\n",
            "\n",
            "Song: For Emma (Bon Iver)\n",
            "\n",
            "\n",
            "Song: Towers (Bon Iver)\n",
            "\n",
            "\n",
            "Song: bad guy (Billie Eilish)\n",
            "\n",
            "\n",
            "Song: watch (Billie Eilish)\n",
            "\n",
            "\n",
            "Song: bury a friend (Billie Eilish)\n",
            "\n",
            "\n",
            "Song: you should see me in a crown (Billie Eilish)\n",
            "\n",
            "\n",
            "Song: when the party's over (Billie Eilish)\n",
            "\n",
            "\n",
            "Song: Disperato erotico stomp (Lucio Dalla)\n",
            "\n",
            "\n",
            "Song: Quale allegria (Lucio Dalla)\n",
            "\n",
            "\n",
            "Song: Come è profondo il mare (Lucio Dalla)\n",
            "\n",
            "\n",
            "Song: L'ultima luna (Lucio Dalla)\n",
            "\n",
            "\n",
            "Song: Caruso (Lucio Dalla)\n",
            "\n",
            "\n",
            "Song: La sera dei miracoli (Lucio Dalla)\n",
            "\n",
            "\n",
            "Song: Anna E Marco (Lucio Dalla)\n",
            "\n",
            "\n",
            "Song: Whole Lotta Love - 1990 Remaster (Led Zeppelin)\n",
            "\n",
            "\n",
            "Song: Black Dog - Remaster (Led Zeppelin)\n",
            "\n",
            "\n",
            "Song: Kashmir - 1990 Remaster (Led Zeppelin)\n",
            "\n",
            "\n",
            "Song: The Rain Song - Remaster (Led Zeppelin)\n",
            "\n",
            "\n",
            "Song: Moby Dick (Led Zeppelin)\n",
            "\n",
            "\n",
            "Song: All My Love - 1990 Remaster (Led Zeppelin)\n",
            "\n",
            "\n",
            "Song: Kashmir-Kashmir (Cesare Cremonini)\n",
            "\n",
            "\n",
            "Song: Una Come Te (Cesare Cremonini)\n",
            "\n",
            "\n",
            "Song: GreyGoose (Cesare Cremonini)\n",
            "\n",
            "\n",
            "Song: Poetica (Cesare Cremonini)\n",
            "\n",
            "\n",
            "Song: Nessuno Vuole Essere Robin (Cesare Cremonini)\n",
            "\n",
            "\n",
            "Song: Possibili Scenari (Cesare Cremonini)\n",
            "\n",
            "\n",
            "Song: Waltz For Debbie (Oscar Peterson Trio)\n",
            "\n",
            "\n",
            "Song: What A Wonderful World (Louis Armstrong)\n",
            "\n",
            "\n",
            "Song: Jailhouse Rock (Elvis Presley)\n",
            "\n",
            "\n",
            "Song: New York, New York (Frank Sinatra)\n",
            "\n",
            "\n",
            "Song: Wild World (Yusuf / Cat Stevens)\n",
            "\n",
            "\n",
            "Song: Father And Son (Yusuf / Cat Stevens)\n",
            "\n",
            "\n"
          ],
          "name": "stdout"
        }
      ]
    },
    {
      "cell_type": "code",
      "metadata": {
        "id": "vxDN8l0v_CKJ"
      },
      "source": [
        "# Feature Selection\r\n",
        "for dic in audio_features:\r\n",
        "  for key in list(dic):\r\n",
        "    if key not in [\"energy\", \"acousticness\", \"valence\"]:\r\n",
        "      dic.pop(key)"
      ],
      "execution_count": null,
      "outputs": []
    },
    {
      "cell_type": "markdown",
      "metadata": {
        "id": "Blo4gSJykI5X"
      },
      "source": [
        "##**Clustering**"
      ]
    },
    {
      "cell_type": "markdown",
      "metadata": {
        "id": "nNlHOmkxfy1N"
      },
      "source": [
        "###Model building"
      ]
    },
    {
      "cell_type": "code",
      "metadata": {
        "id": "XRlJRZP_CVhy"
      },
      "source": [
        "# Model building\r\n",
        "Y = np.asarray(audio_features)\r\n",
        "\r\n",
        "feature_space = []\r\n",
        "\r\n",
        "num_cluster = 3\r\n",
        "\r\n",
        "for dic in audio_features:\r\n",
        "  feature_space.append(tuple(dic.values()))\r\n",
        "\r\n",
        "model = sklearn.cluster.KMeans(n_clusters = num_cluster)\r\n",
        "labels = model.fit_predict(feature_space)\r\n",
        "\r\n",
        "print(\"You have\", labels.shape[0], \"songs in the feature space, organized in\", num_cluster, \"clusters.\")\r\n",
        "\r\n",
        "# Cardinality computation:\r\n",
        "cardinalità = []\r\n",
        "\r\n",
        "for index in range(num_cluster):\r\n",
        "  cardinalità.append(np.sum(labels == index))\r\n",
        "\r\n",
        "max_cluster = cardinalità.index(np.max(cardinalità)) #index of the largest cluster\r\n",
        "cardinalità = cardinalità/np.sum(cardinalità)"
      ],
      "execution_count": null,
      "outputs": []
    },
    {
      "cell_type": "markdown",
      "metadata": {
        "id": "81O6BpkHMRLm"
      },
      "source": [
        "###Clustering plots"
      ]
    },
    {
      "cell_type": "code",
      "metadata": {
        "id": "jR2AWGtNrt70",
        "colab": {
          "base_uri": "https://localhost:8080/",
          "height": 817
        },
        "outputId": "437a14ab-590d-473a-9eeb-509b45c46e57"
      },
      "source": [
        "# 3d scatterplot using plotly\r\n",
        "Scene = dict(xaxis=dict(title='Energy'),yaxis = dict(title='Acousticness'),zaxis = dict(title='Valence'))\r\n",
        "\r\n",
        "# Construction of axises matrix\r\n",
        "axises = np.zeros((len(labels)+num_cluster, num_cluster))\r\n",
        "i = 0\r\n",
        "\r\n",
        "for triplet in feature_space:\r\n",
        "  axises[i,0] = triplet[0]\r\n",
        "  axises[i,1] = triplet[1]\r\n",
        "  axises[i,2] = triplet[2]\r\n",
        "  i+=1\r\n",
        "\r\n",
        "# Plot\r\n",
        "trace = go.Scatter3d(x=axises[:labels.shape[0], 0], y=axises[:labels.shape[0], 1], z=axises[:labels.shape[0], 2], \r\n",
        "                     mode='markers',\r\n",
        "                     marker=dict(color = labels, size= 8, line=dict(color= 'black',width = 10)))\r\n",
        "\r\n",
        "layout = go.Layout(margin=dict(l=0,r=0),scene = Scene,height = 800,width = 800)\r\n",
        "data = [trace]\r\n",
        "fig = go.Figure(data = data, layout = layout)\r\n",
        "fig.show()"
      ],
      "execution_count": null,
      "outputs": [
        {
          "output_type": "display_data",
          "data": {
            "text/html": [
              "<html>\n",
              "<head><meta charset=\"utf-8\" /></head>\n",
              "<body>\n",
              "    <div>\n",
              "            <script src=\"https://cdnjs.cloudflare.com/ajax/libs/mathjax/2.7.5/MathJax.js?config=TeX-AMS-MML_SVG\"></script><script type=\"text/javascript\">if (window.MathJax) {MathJax.Hub.Config({SVG: {font: \"STIX-Web\"}});}</script>\n",
              "                <script type=\"text/javascript\">window.PlotlyConfig = {MathJaxConfig: 'local'};</script>\n",
              "        <script src=\"https://cdn.plot.ly/plotly-latest.min.js\"></script>    \n",
              "            <div id=\"6f6340fe-d0b1-4f16-b15d-4b93f515d5d0\" class=\"plotly-graph-div\" style=\"height:800px; width:800px;\"></div>\n",
              "            <script type=\"text/javascript\">\n",
              "                \n",
              "                    window.PLOTLYENV=window.PLOTLYENV || {};\n",
              "                    \n",
              "                if (document.getElementById(\"6f6340fe-d0b1-4f16-b15d-4b93f515d5d0\")) {\n",
              "                    Plotly.newPlot(\n",
              "                        '6f6340fe-d0b1-4f16-b15d-4b93f515d5d0',\n",
              "                        [{\"marker\": {\"color\": [2, 0, 0, 0, 2, 2, 0, 0, 0, 1, 2, 0, 2, 1, 0, 1, 0, 0, 0, 2, 0, 0, 1, 2, 1, 1, 2, 1, 2, 2, 1, 1, 1, 1, 1, 0, 0, 0, 1, 0, 0, 2, 2, 2, 2, 2, 2, 2, 1, 0, 0, 1, 1, 2, 1, 0, 2, 0, 2, 1, 0, 0, 0, 0, 0, 2, 2, 2, 1, 2, 0, 0, 2, 0, 2, 1, 0, 0, 0, 2, 2, 1, 1, 1, 1, 0, 0, 1, 1, 1, 1, 0, 2, 0, 2, 2, 1, 2, 0, 2], \"line\": {\"color\": \"black\", \"width\": 10}, \"size\": 8}, \"mode\": \"markers\", \"type\": \"scatter3d\", \"x\": [0.403, 0.573, 0.752, 0.735, 0.566, 0.593, 0.626, 0.392, 0.813, 0.921, 0.401, 0.498, 0.271, 0.548, 0.358, 0.559, 0.366, 0.468, 0.485, 0.429, 0.672, 0.587, 0.819, 0.678, 0.719, 0.769, 0.403, 0.874, 0.359, 0.283, 0.698, 0.903, 0.818, 0.716, 0.849, 0.366, 0.15, 0.375, 0.537, 0.322, 0.301, 0.103, 0.343, 0.21, 0.366, 0.393, 0.26, 0.334, 0.625, 0.593, 0.652, 0.867, 0.794, 0.336, 0.973, 0.685, 0.283, 0.354, 0.302, 0.896, 0.654, 0.536, 0.594, 0.653, 0.831, 0.306, 0.46, 0.285, 0.61, 0.321, 0.425, 0.599, 0.389, 0.533, 0.111, 0.651, 0.488, 0.474, 0.538, 0.142, 0.183, 0.471, 0.902, 0.864, 0.536, 0.318, 0.446, 0.744, 0.884, 0.693, 0.559, 0.607, 0.428, 0.718, 0.194, 0.258, 0.582, 0.398, 0.508, 0.33], \"y\": [0.62, 0.118, 0.552, 0.0711, 0.563, 0.706, 0.00572, 0.219, 0.0359, 0.246, 0.542, 0.23, 0.947, 0.163, 0.399, 0.00608, 0.04, 0.0473, 0.337, 0.71, 0.00559, 0.141, 0.428, 0.61, 0.00285, 0.113, 0.744, 0.139, 0.684, 0.694, 0.129, 0.0713, 0.466, 0.331, 0.0996, 0.15, 0.243, 0.391, 0.0241, 0.366, 0.221, 0.918, 0.814, 0.901, 0.86, 0.747, 0.906, 0.883, 0.734, 0.17, 0.343, 0.257, 0.479, 0.758, 0.24, 0.0246, 0.831, 0.258, 0.712, 0.108, 0.194, 0.0838, 0.0214, 0.0266, 0.082, 0.942, 0.861, 0.872, 0.465, 0.948, 0.328, 0.333, 0.74, 0.462, 0.978, 0.0649, 0.26, 0.24, 0.06, 0.759, 0.661, 0.297, 0.0484, 0.396, 0.488, 0.317, 0.025, 0.131, 0.0168, 0.111, 0.0625, 0.014, 0.566, 0.0483, 0.858, 0.792, 0.41, 0.551, 0.376, 0.589], \"z\": [0.391, 0.438, 0.236, 0.409, 0.169, 0.523, 0.346, 0.103, 0.373, 0.681, 0.347, 0.413, 0.201, 0.725, 0.312, 0.668, 0.153, 0.377, 0.144, 0.27, 0.0648, 0.486, 0.585, 0.29, 0.717, 0.583, 0.0687, 0.958, 0.305, 0.2, 0.686, 0.937, 0.514, 0.693, 0.967, 0.171, 0.121, 0.258, 0.783, 0.142, 0.19, 0.192, 0.454, 0.441, 0.674, 0.194, 0.503, 0.771, 0.896, 0.175, 0.487, 0.7, 0.754, 0.426, 0.725, 0.424, 0.331, 0.166, 0.389, 0.773, 0.232, 0.204, 0.303, 0.505, 0.345, 0.157, 0.0819, 0.213, 0.559, 0.145, 0.562, 0.35, 0.196, 0.323, 0.198, 0.665, 0.542, 0.422, 0.529, 0.164, 0.304, 0.638, 0.422, 0.749, 0.581, 0.24, 0.356, 0.723, 0.944, 0.672, 0.625, 0.202, 0.208, 0.426, 0.455, 0.192, 0.915, 0.469, 0.554, 0.395]}],\n",
              "                        {\"height\": 800, \"margin\": {\"l\": 0, \"r\": 0}, \"scene\": {\"xaxis\": {\"title\": {\"text\": \"Energy\"}}, \"yaxis\": {\"title\": {\"text\": \"Acousticness\"}}, \"zaxis\": {\"title\": {\"text\": \"Valence\"}}}, \"template\": {\"data\": {\"bar\": [{\"error_x\": {\"color\": \"#2a3f5f\"}, \"error_y\": {\"color\": \"#2a3f5f\"}, \"marker\": {\"line\": {\"color\": \"#E5ECF6\", \"width\": 0.5}}, \"type\": \"bar\"}], \"barpolar\": [{\"marker\": {\"line\": {\"color\": \"#E5ECF6\", \"width\": 0.5}}, \"type\": \"barpolar\"}], \"carpet\": [{\"aaxis\": {\"endlinecolor\": \"#2a3f5f\", \"gridcolor\": \"white\", \"linecolor\": \"white\", \"minorgridcolor\": \"white\", \"startlinecolor\": \"#2a3f5f\"}, \"baxis\": {\"endlinecolor\": \"#2a3f5f\", \"gridcolor\": \"white\", \"linecolor\": \"white\", \"minorgridcolor\": \"white\", \"startlinecolor\": \"#2a3f5f\"}, \"type\": \"carpet\"}], \"choropleth\": [{\"colorbar\": {\"outlinewidth\": 0, \"ticks\": \"\"}, \"type\": \"choropleth\"}], \"contour\": [{\"colorbar\": {\"outlinewidth\": 0, \"ticks\": \"\"}, \"colorscale\": [[0.0, \"#0d0887\"], [0.1111111111111111, \"#46039f\"], [0.2222222222222222, \"#7201a8\"], [0.3333333333333333, \"#9c179e\"], [0.4444444444444444, \"#bd3786\"], [0.5555555555555556, \"#d8576b\"], [0.6666666666666666, \"#ed7953\"], [0.7777777777777778, \"#fb9f3a\"], [0.8888888888888888, \"#fdca26\"], [1.0, \"#f0f921\"]], \"type\": \"contour\"}], \"contourcarpet\": [{\"colorbar\": {\"outlinewidth\": 0, \"ticks\": \"\"}, \"type\": \"contourcarpet\"}], \"heatmap\": [{\"colorbar\": {\"outlinewidth\": 0, \"ticks\": \"\"}, \"colorscale\": [[0.0, \"#0d0887\"], [0.1111111111111111, \"#46039f\"], [0.2222222222222222, \"#7201a8\"], [0.3333333333333333, \"#9c179e\"], [0.4444444444444444, \"#bd3786\"], [0.5555555555555556, \"#d8576b\"], [0.6666666666666666, \"#ed7953\"], [0.7777777777777778, \"#fb9f3a\"], [0.8888888888888888, \"#fdca26\"], [1.0, \"#f0f921\"]], \"type\": \"heatmap\"}], \"heatmapgl\": [{\"colorbar\": {\"outlinewidth\": 0, \"ticks\": \"\"}, \"colorscale\": [[0.0, \"#0d0887\"], [0.1111111111111111, \"#46039f\"], [0.2222222222222222, \"#7201a8\"], [0.3333333333333333, \"#9c179e\"], [0.4444444444444444, \"#bd3786\"], [0.5555555555555556, \"#d8576b\"], [0.6666666666666666, \"#ed7953\"], [0.7777777777777778, \"#fb9f3a\"], [0.8888888888888888, \"#fdca26\"], [1.0, \"#f0f921\"]], \"type\": \"heatmapgl\"}], \"histogram\": [{\"marker\": {\"colorbar\": {\"outlinewidth\": 0, \"ticks\": \"\"}}, \"type\": \"histogram\"}], \"histogram2d\": [{\"colorbar\": {\"outlinewidth\": 0, \"ticks\": \"\"}, \"colorscale\": [[0.0, \"#0d0887\"], [0.1111111111111111, \"#46039f\"], [0.2222222222222222, \"#7201a8\"], [0.3333333333333333, \"#9c179e\"], [0.4444444444444444, \"#bd3786\"], [0.5555555555555556, \"#d8576b\"], [0.6666666666666666, \"#ed7953\"], [0.7777777777777778, \"#fb9f3a\"], [0.8888888888888888, \"#fdca26\"], [1.0, \"#f0f921\"]], \"type\": \"histogram2d\"}], \"histogram2dcontour\": [{\"colorbar\": {\"outlinewidth\": 0, \"ticks\": \"\"}, \"colorscale\": [[0.0, \"#0d0887\"], [0.1111111111111111, \"#46039f\"], [0.2222222222222222, \"#7201a8\"], [0.3333333333333333, \"#9c179e\"], [0.4444444444444444, \"#bd3786\"], [0.5555555555555556, \"#d8576b\"], [0.6666666666666666, \"#ed7953\"], [0.7777777777777778, \"#fb9f3a\"], [0.8888888888888888, \"#fdca26\"], [1.0, \"#f0f921\"]], \"type\": \"histogram2dcontour\"}], \"mesh3d\": [{\"colorbar\": {\"outlinewidth\": 0, \"ticks\": \"\"}, \"type\": \"mesh3d\"}], \"parcoords\": [{\"line\": {\"colorbar\": {\"outlinewidth\": 0, \"ticks\": \"\"}}, \"type\": \"parcoords\"}], \"pie\": [{\"automargin\": true, \"type\": \"pie\"}], \"scatter\": [{\"marker\": {\"colorbar\": {\"outlinewidth\": 0, \"ticks\": \"\"}}, \"type\": \"scatter\"}], \"scatter3d\": [{\"line\": {\"colorbar\": {\"outlinewidth\": 0, \"ticks\": \"\"}}, \"marker\": {\"colorbar\": {\"outlinewidth\": 0, \"ticks\": \"\"}}, \"type\": \"scatter3d\"}], \"scattercarpet\": [{\"marker\": {\"colorbar\": {\"outlinewidth\": 0, \"ticks\": \"\"}}, \"type\": \"scattercarpet\"}], \"scattergeo\": [{\"marker\": {\"colorbar\": {\"outlinewidth\": 0, \"ticks\": \"\"}}, \"type\": \"scattergeo\"}], \"scattergl\": [{\"marker\": {\"colorbar\": {\"outlinewidth\": 0, \"ticks\": \"\"}}, \"type\": \"scattergl\"}], \"scattermapbox\": [{\"marker\": {\"colorbar\": {\"outlinewidth\": 0, \"ticks\": \"\"}}, \"type\": \"scattermapbox\"}], \"scatterpolar\": [{\"marker\": {\"colorbar\": {\"outlinewidth\": 0, \"ticks\": \"\"}}, \"type\": \"scatterpolar\"}], \"scatterpolargl\": [{\"marker\": {\"colorbar\": {\"outlinewidth\": 0, \"ticks\": \"\"}}, \"type\": \"scatterpolargl\"}], \"scatterternary\": [{\"marker\": {\"colorbar\": {\"outlinewidth\": 0, \"ticks\": \"\"}}, \"type\": \"scatterternary\"}], \"surface\": [{\"colorbar\": {\"outlinewidth\": 0, \"ticks\": \"\"}, \"colorscale\": [[0.0, \"#0d0887\"], [0.1111111111111111, \"#46039f\"], [0.2222222222222222, \"#7201a8\"], [0.3333333333333333, \"#9c179e\"], [0.4444444444444444, \"#bd3786\"], [0.5555555555555556, \"#d8576b\"], [0.6666666666666666, \"#ed7953\"], [0.7777777777777778, \"#fb9f3a\"], [0.8888888888888888, \"#fdca26\"], [1.0, \"#f0f921\"]], \"type\": \"surface\"}], \"table\": [{\"cells\": {\"fill\": {\"color\": \"#EBF0F8\"}, \"line\": {\"color\": \"white\"}}, \"header\": {\"fill\": {\"color\": \"#C8D4E3\"}, \"line\": {\"color\": \"white\"}}, \"type\": \"table\"}]}, \"layout\": {\"annotationdefaults\": {\"arrowcolor\": \"#2a3f5f\", \"arrowhead\": 0, \"arrowwidth\": 1}, \"coloraxis\": {\"colorbar\": {\"outlinewidth\": 0, \"ticks\": \"\"}}, \"colorscale\": {\"diverging\": [[0, \"#8e0152\"], [0.1, \"#c51b7d\"], [0.2, \"#de77ae\"], [0.3, \"#f1b6da\"], [0.4, \"#fde0ef\"], [0.5, \"#f7f7f7\"], [0.6, \"#e6f5d0\"], [0.7, \"#b8e186\"], [0.8, \"#7fbc41\"], [0.9, \"#4d9221\"], [1, \"#276419\"]], \"sequential\": [[0.0, \"#0d0887\"], [0.1111111111111111, \"#46039f\"], [0.2222222222222222, \"#7201a8\"], [0.3333333333333333, \"#9c179e\"], [0.4444444444444444, \"#bd3786\"], [0.5555555555555556, \"#d8576b\"], [0.6666666666666666, \"#ed7953\"], [0.7777777777777778, \"#fb9f3a\"], [0.8888888888888888, \"#fdca26\"], [1.0, \"#f0f921\"]], \"sequentialminus\": [[0.0, \"#0d0887\"], [0.1111111111111111, \"#46039f\"], [0.2222222222222222, \"#7201a8\"], [0.3333333333333333, \"#9c179e\"], [0.4444444444444444, \"#bd3786\"], [0.5555555555555556, \"#d8576b\"], [0.6666666666666666, \"#ed7953\"], [0.7777777777777778, \"#fb9f3a\"], [0.8888888888888888, \"#fdca26\"], [1.0, \"#f0f921\"]]}, \"colorway\": [\"#636efa\", \"#EF553B\", \"#00cc96\", \"#ab63fa\", \"#FFA15A\", \"#19d3f3\", \"#FF6692\", \"#B6E880\", \"#FF97FF\", \"#FECB52\"], \"font\": {\"color\": \"#2a3f5f\"}, \"geo\": {\"bgcolor\": \"white\", \"lakecolor\": \"white\", \"landcolor\": \"#E5ECF6\", \"showlakes\": true, \"showland\": true, \"subunitcolor\": \"white\"}, \"hoverlabel\": {\"align\": \"left\"}, \"hovermode\": \"closest\", \"mapbox\": {\"style\": \"light\"}, \"paper_bgcolor\": \"white\", \"plot_bgcolor\": \"#E5ECF6\", \"polar\": {\"angularaxis\": {\"gridcolor\": \"white\", \"linecolor\": \"white\", \"ticks\": \"\"}, \"bgcolor\": \"#E5ECF6\", \"radialaxis\": {\"gridcolor\": \"white\", \"linecolor\": \"white\", \"ticks\": \"\"}}, \"scene\": {\"xaxis\": {\"backgroundcolor\": \"#E5ECF6\", \"gridcolor\": \"white\", \"gridwidth\": 2, \"linecolor\": \"white\", \"showbackground\": true, \"ticks\": \"\", \"zerolinecolor\": \"white\"}, \"yaxis\": {\"backgroundcolor\": \"#E5ECF6\", \"gridcolor\": \"white\", \"gridwidth\": 2, \"linecolor\": \"white\", \"showbackground\": true, \"ticks\": \"\", \"zerolinecolor\": \"white\"}, \"zaxis\": {\"backgroundcolor\": \"#E5ECF6\", \"gridcolor\": \"white\", \"gridwidth\": 2, \"linecolor\": \"white\", \"showbackground\": true, \"ticks\": \"\", \"zerolinecolor\": \"white\"}}, \"shapedefaults\": {\"line\": {\"color\": \"#2a3f5f\"}}, \"ternary\": {\"aaxis\": {\"gridcolor\": \"white\", \"linecolor\": \"white\", \"ticks\": \"\"}, \"baxis\": {\"gridcolor\": \"white\", \"linecolor\": \"white\", \"ticks\": \"\"}, \"bgcolor\": \"#E5ECF6\", \"caxis\": {\"gridcolor\": \"white\", \"linecolor\": \"white\", \"ticks\": \"\"}}, \"title\": {\"x\": 0.05}, \"xaxis\": {\"automargin\": true, \"gridcolor\": \"white\", \"linecolor\": \"white\", \"ticks\": \"\", \"title\": {\"standoff\": 15}, \"zerolinecolor\": \"white\", \"zerolinewidth\": 2}, \"yaxis\": {\"automargin\": true, \"gridcolor\": \"white\", \"linecolor\": \"white\", \"ticks\": \"\", \"title\": {\"standoff\": 15}, \"zerolinecolor\": \"white\", \"zerolinewidth\": 2}}}, \"width\": 800},\n",
              "                        {\"responsive\": true}\n",
              "                    ).then(function(){\n",
              "                            \n",
              "var gd = document.getElementById('6f6340fe-d0b1-4f16-b15d-4b93f515d5d0');\n",
              "var x = new MutationObserver(function (mutations, observer) {{\n",
              "        var display = window.getComputedStyle(gd).display;\n",
              "        if (!display || display === 'none') {{\n",
              "            console.log([gd, 'removed!']);\n",
              "            Plotly.purge(gd);\n",
              "            observer.disconnect();\n",
              "        }}\n",
              "}});\n",
              "\n",
              "// Listen for the removal of the full notebook cells\n",
              "var notebookContainer = gd.closest('#notebook-container');\n",
              "if (notebookContainer) {{\n",
              "    x.observe(notebookContainer, {childList: true});\n",
              "}}\n",
              "\n",
              "// Listen for the clearing of the current output cell\n",
              "var outputEl = gd.closest('.output');\n",
              "if (outputEl) {{\n",
              "    x.observe(outputEl, {childList: true});\n",
              "}}\n",
              "\n",
              "                        })\n",
              "                };\n",
              "                \n",
              "            </script>\n",
              "        </div>\n",
              "</body>\n",
              "</html>"
            ]
          },
          "metadata": {
            "tags": []
          }
        }
      ]
    },
    {
      "cell_type": "code",
      "metadata": {
        "id": "CPFH49sYFNf-",
        "colab": {
          "base_uri": "https://localhost:8080/",
          "height": 817
        },
        "outputId": "5cdd4e84-48f7-436e-ad78-76aec1f15287"
      },
      "source": [
        "# Centroids computation\r\n",
        "centers = np.array(model.cluster_centers_)\r\n",
        "\r\n",
        "# Plot with centroids\r\n",
        "for i in np.arange(len(centers)):\r\n",
        "  axises[labels.shape[0]+i, 0] = centers[i, 0]\r\n",
        "  axises[labels.shape[0]+i, 1] = centers[i, 1]\r\n",
        "  axises[labels.shape[0]+i, 2] = centers[i, 2]\r\n",
        "\r\n",
        "trace = go.Scatter3d(x=axises[:, 0], y=axises[:, 1], z=axises[:, 2], \r\n",
        "                     mode='markers',\r\n",
        "                     marker=dict(color = labels, size= 8, line=dict(color= 'black',width = 10)))\r\n",
        "\r\n",
        "layout = go.Layout(margin=dict(l=0,r=0),scene = Scene,height = 800,width = 800)\r\n",
        "data = [trace]\r\n",
        "fig = go.Figure(data = data, layout = layout)\r\n",
        "fig.show()"
      ],
      "execution_count": null,
      "outputs": [
        {
          "output_type": "display_data",
          "data": {
            "text/html": [
              "<html>\n",
              "<head><meta charset=\"utf-8\" /></head>\n",
              "<body>\n",
              "    <div>\n",
              "            <script src=\"https://cdnjs.cloudflare.com/ajax/libs/mathjax/2.7.5/MathJax.js?config=TeX-AMS-MML_SVG\"></script><script type=\"text/javascript\">if (window.MathJax) {MathJax.Hub.Config({SVG: {font: \"STIX-Web\"}});}</script>\n",
              "                <script type=\"text/javascript\">window.PlotlyConfig = {MathJaxConfig: 'local'};</script>\n",
              "        <script src=\"https://cdn.plot.ly/plotly-latest.min.js\"></script>    \n",
              "            <div id=\"84965eae-610a-4b3a-ba76-e9ba569ad04b\" class=\"plotly-graph-div\" style=\"height:800px; width:800px;\"></div>\n",
              "            <script type=\"text/javascript\">\n",
              "                \n",
              "                    window.PLOTLYENV=window.PLOTLYENV || {};\n",
              "                    \n",
              "                if (document.getElementById(\"84965eae-610a-4b3a-ba76-e9ba569ad04b\")) {\n",
              "                    Plotly.newPlot(\n",
              "                        '84965eae-610a-4b3a-ba76-e9ba569ad04b',\n",
              "                        [{\"marker\": {\"color\": [2, 0, 0, 0, 2, 2, 0, 0, 0, 1, 2, 0, 2, 1, 0, 1, 0, 0, 0, 2, 0, 0, 1, 2, 1, 1, 2, 1, 2, 2, 1, 1, 1, 1, 1, 0, 0, 0, 1, 0, 0, 2, 2, 2, 2, 2, 2, 2, 1, 0, 0, 1, 1, 2, 1, 0, 2, 0, 2, 1, 0, 0, 0, 0, 0, 2, 2, 2, 1, 2, 0, 0, 2, 0, 2, 1, 0, 0, 0, 2, 2, 1, 1, 1, 1, 0, 0, 1, 1, 1, 1, 0, 2, 0, 2, 2, 1, 2, 0, 2], \"line\": {\"color\": \"black\", \"width\": 10}, \"size\": 8}, \"mode\": \"markers\", \"type\": \"scatter3d\", \"x\": [0.403, 0.573, 0.752, 0.735, 0.566, 0.593, 0.626, 0.392, 0.813, 0.921, 0.401, 0.498, 0.271, 0.548, 0.358, 0.559, 0.366, 0.468, 0.485, 0.429, 0.672, 0.587, 0.819, 0.678, 0.719, 0.769, 0.403, 0.874, 0.359, 0.283, 0.698, 0.903, 0.818, 0.716, 0.849, 0.366, 0.15, 0.375, 0.537, 0.322, 0.301, 0.103, 0.343, 0.21, 0.366, 0.393, 0.26, 0.334, 0.625, 0.593, 0.652, 0.867, 0.794, 0.336, 0.973, 0.685, 0.283, 0.354, 0.302, 0.896, 0.654, 0.536, 0.594, 0.653, 0.831, 0.306, 0.46, 0.285, 0.61, 0.321, 0.425, 0.599, 0.389, 0.533, 0.111, 0.651, 0.488, 0.474, 0.538, 0.142, 0.183, 0.471, 0.902, 0.864, 0.536, 0.318, 0.446, 0.744, 0.884, 0.693, 0.559, 0.607, 0.428, 0.718, 0.194, 0.258, 0.582, 0.398, 0.508, 0.33, 0.5275, 0.7372758620689654, 0.337], \"y\": [0.62, 0.118, 0.552, 0.0711, 0.563, 0.706, 0.00572, 0.219, 0.0359, 0.246, 0.542, 0.23, 0.947, 0.163, 0.399, 0.00608, 0.04, 0.0473, 0.337, 0.71, 0.00559, 0.141, 0.428, 0.61, 0.00285, 0.113, 0.744, 0.139, 0.684, 0.694, 0.129, 0.0713, 0.466, 0.331, 0.0996, 0.15, 0.243, 0.391, 0.0241, 0.366, 0.221, 0.918, 0.814, 0.901, 0.86, 0.747, 0.906, 0.883, 0.734, 0.17, 0.343, 0.257, 0.479, 0.758, 0.24, 0.0246, 0.831, 0.258, 0.712, 0.108, 0.194, 0.0838, 0.0214, 0.0266, 0.082, 0.942, 0.861, 0.872, 0.465, 0.948, 0.328, 0.333, 0.74, 0.462, 0.978, 0.0649, 0.26, 0.24, 0.06, 0.759, 0.661, 0.297, 0.0484, 0.396, 0.488, 0.317, 0.025, 0.131, 0.0168, 0.111, 0.0625, 0.014, 0.566, 0.0483, 0.858, 0.792, 0.41, 0.551, 0.376, 0.589, 0.19050815789473685, 0.2250872413793103, 0.7656666666666666], \"z\": [0.391, 0.438, 0.236, 0.409, 0.169, 0.523, 0.346, 0.103, 0.373, 0.681, 0.347, 0.413, 0.201, 0.725, 0.312, 0.668, 0.153, 0.377, 0.144, 0.27, 0.0648, 0.486, 0.585, 0.29, 0.717, 0.583, 0.0687, 0.958, 0.305, 0.2, 0.686, 0.937, 0.514, 0.693, 0.967, 0.171, 0.121, 0.258, 0.783, 0.142, 0.19, 0.192, 0.454, 0.441, 0.674, 0.194, 0.503, 0.771, 0.896, 0.175, 0.487, 0.7, 0.754, 0.426, 0.725, 0.424, 0.331, 0.166, 0.389, 0.773, 0.232, 0.204, 0.303, 0.505, 0.345, 0.157, 0.0819, 0.213, 0.559, 0.145, 0.562, 0.35, 0.196, 0.323, 0.198, 0.665, 0.542, 0.422, 0.529, 0.164, 0.304, 0.638, 0.422, 0.749, 0.581, 0.24, 0.356, 0.723, 0.944, 0.672, 0.625, 0.202, 0.208, 0.426, 0.455, 0.192, 0.915, 0.469, 0.554, 0.395, 0.3179947368421053, 0.7185517241379311, 0.3126545454545454]}],\n",
              "                        {\"height\": 800, \"margin\": {\"l\": 0, \"r\": 0}, \"scene\": {\"xaxis\": {\"title\": {\"text\": \"Energy\"}}, \"yaxis\": {\"title\": {\"text\": \"Acousticness\"}}, \"zaxis\": {\"title\": {\"text\": \"Valence\"}}}, \"template\": {\"data\": {\"bar\": [{\"error_x\": {\"color\": \"#2a3f5f\"}, \"error_y\": {\"color\": \"#2a3f5f\"}, \"marker\": {\"line\": {\"color\": \"#E5ECF6\", \"width\": 0.5}}, \"type\": \"bar\"}], \"barpolar\": [{\"marker\": {\"line\": {\"color\": \"#E5ECF6\", \"width\": 0.5}}, \"type\": \"barpolar\"}], \"carpet\": [{\"aaxis\": {\"endlinecolor\": \"#2a3f5f\", \"gridcolor\": \"white\", \"linecolor\": \"white\", \"minorgridcolor\": \"white\", \"startlinecolor\": \"#2a3f5f\"}, \"baxis\": {\"endlinecolor\": \"#2a3f5f\", \"gridcolor\": \"white\", \"linecolor\": \"white\", \"minorgridcolor\": \"white\", \"startlinecolor\": \"#2a3f5f\"}, \"type\": \"carpet\"}], \"choropleth\": [{\"colorbar\": {\"outlinewidth\": 0, \"ticks\": \"\"}, \"type\": \"choropleth\"}], \"contour\": [{\"colorbar\": {\"outlinewidth\": 0, \"ticks\": \"\"}, \"colorscale\": [[0.0, \"#0d0887\"], [0.1111111111111111, \"#46039f\"], [0.2222222222222222, \"#7201a8\"], [0.3333333333333333, \"#9c179e\"], [0.4444444444444444, \"#bd3786\"], [0.5555555555555556, \"#d8576b\"], [0.6666666666666666, \"#ed7953\"], [0.7777777777777778, \"#fb9f3a\"], [0.8888888888888888, \"#fdca26\"], [1.0, \"#f0f921\"]], \"type\": \"contour\"}], \"contourcarpet\": [{\"colorbar\": {\"outlinewidth\": 0, \"ticks\": \"\"}, \"type\": \"contourcarpet\"}], \"heatmap\": [{\"colorbar\": {\"outlinewidth\": 0, \"ticks\": \"\"}, \"colorscale\": [[0.0, \"#0d0887\"], [0.1111111111111111, \"#46039f\"], [0.2222222222222222, \"#7201a8\"], [0.3333333333333333, \"#9c179e\"], [0.4444444444444444, \"#bd3786\"], [0.5555555555555556, \"#d8576b\"], [0.6666666666666666, \"#ed7953\"], [0.7777777777777778, \"#fb9f3a\"], [0.8888888888888888, \"#fdca26\"], [1.0, \"#f0f921\"]], \"type\": \"heatmap\"}], \"heatmapgl\": [{\"colorbar\": {\"outlinewidth\": 0, \"ticks\": \"\"}, \"colorscale\": [[0.0, \"#0d0887\"], [0.1111111111111111, \"#46039f\"], [0.2222222222222222, \"#7201a8\"], [0.3333333333333333, \"#9c179e\"], [0.4444444444444444, \"#bd3786\"], [0.5555555555555556, \"#d8576b\"], [0.6666666666666666, \"#ed7953\"], [0.7777777777777778, \"#fb9f3a\"], [0.8888888888888888, \"#fdca26\"], [1.0, \"#f0f921\"]], \"type\": \"heatmapgl\"}], \"histogram\": [{\"marker\": {\"colorbar\": {\"outlinewidth\": 0, \"ticks\": \"\"}}, \"type\": \"histogram\"}], \"histogram2d\": [{\"colorbar\": {\"outlinewidth\": 0, \"ticks\": \"\"}, \"colorscale\": [[0.0, \"#0d0887\"], [0.1111111111111111, \"#46039f\"], [0.2222222222222222, \"#7201a8\"], [0.3333333333333333, \"#9c179e\"], [0.4444444444444444, \"#bd3786\"], [0.5555555555555556, \"#d8576b\"], [0.6666666666666666, \"#ed7953\"], [0.7777777777777778, \"#fb9f3a\"], [0.8888888888888888, \"#fdca26\"], [1.0, \"#f0f921\"]], \"type\": \"histogram2d\"}], \"histogram2dcontour\": [{\"colorbar\": {\"outlinewidth\": 0, \"ticks\": \"\"}, \"colorscale\": [[0.0, \"#0d0887\"], [0.1111111111111111, \"#46039f\"], [0.2222222222222222, \"#7201a8\"], [0.3333333333333333, \"#9c179e\"], [0.4444444444444444, \"#bd3786\"], [0.5555555555555556, \"#d8576b\"], [0.6666666666666666, \"#ed7953\"], [0.7777777777777778, \"#fb9f3a\"], [0.8888888888888888, \"#fdca26\"], [1.0, \"#f0f921\"]], \"type\": \"histogram2dcontour\"}], \"mesh3d\": [{\"colorbar\": {\"outlinewidth\": 0, \"ticks\": \"\"}, \"type\": \"mesh3d\"}], \"parcoords\": [{\"line\": {\"colorbar\": {\"outlinewidth\": 0, \"ticks\": \"\"}}, \"type\": \"parcoords\"}], \"pie\": [{\"automargin\": true, \"type\": \"pie\"}], \"scatter\": [{\"marker\": {\"colorbar\": {\"outlinewidth\": 0, \"ticks\": \"\"}}, \"type\": \"scatter\"}], \"scatter3d\": [{\"line\": {\"colorbar\": {\"outlinewidth\": 0, \"ticks\": \"\"}}, \"marker\": {\"colorbar\": {\"outlinewidth\": 0, \"ticks\": \"\"}}, \"type\": \"scatter3d\"}], \"scattercarpet\": [{\"marker\": {\"colorbar\": {\"outlinewidth\": 0, \"ticks\": \"\"}}, \"type\": \"scattercarpet\"}], \"scattergeo\": [{\"marker\": {\"colorbar\": {\"outlinewidth\": 0, \"ticks\": \"\"}}, \"type\": \"scattergeo\"}], \"scattergl\": [{\"marker\": {\"colorbar\": {\"outlinewidth\": 0, \"ticks\": \"\"}}, \"type\": \"scattergl\"}], \"scattermapbox\": [{\"marker\": {\"colorbar\": {\"outlinewidth\": 0, \"ticks\": \"\"}}, \"type\": \"scattermapbox\"}], \"scatterpolar\": [{\"marker\": {\"colorbar\": {\"outlinewidth\": 0, \"ticks\": \"\"}}, \"type\": \"scatterpolar\"}], \"scatterpolargl\": [{\"marker\": {\"colorbar\": {\"outlinewidth\": 0, \"ticks\": \"\"}}, \"type\": \"scatterpolargl\"}], \"scatterternary\": [{\"marker\": {\"colorbar\": {\"outlinewidth\": 0, \"ticks\": \"\"}}, \"type\": \"scatterternary\"}], \"surface\": [{\"colorbar\": {\"outlinewidth\": 0, \"ticks\": \"\"}, \"colorscale\": [[0.0, \"#0d0887\"], [0.1111111111111111, \"#46039f\"], [0.2222222222222222, \"#7201a8\"], [0.3333333333333333, \"#9c179e\"], [0.4444444444444444, \"#bd3786\"], [0.5555555555555556, \"#d8576b\"], [0.6666666666666666, \"#ed7953\"], [0.7777777777777778, \"#fb9f3a\"], [0.8888888888888888, \"#fdca26\"], [1.0, \"#f0f921\"]], \"type\": \"surface\"}], \"table\": [{\"cells\": {\"fill\": {\"color\": \"#EBF0F8\"}, \"line\": {\"color\": \"white\"}}, \"header\": {\"fill\": {\"color\": \"#C8D4E3\"}, \"line\": {\"color\": \"white\"}}, \"type\": \"table\"}]}, \"layout\": {\"annotationdefaults\": {\"arrowcolor\": \"#2a3f5f\", \"arrowhead\": 0, \"arrowwidth\": 1}, \"coloraxis\": {\"colorbar\": {\"outlinewidth\": 0, \"ticks\": \"\"}}, \"colorscale\": {\"diverging\": [[0, \"#8e0152\"], [0.1, \"#c51b7d\"], [0.2, \"#de77ae\"], [0.3, \"#f1b6da\"], [0.4, \"#fde0ef\"], [0.5, \"#f7f7f7\"], [0.6, \"#e6f5d0\"], [0.7, \"#b8e186\"], [0.8, \"#7fbc41\"], [0.9, \"#4d9221\"], [1, \"#276419\"]], \"sequential\": [[0.0, \"#0d0887\"], [0.1111111111111111, \"#46039f\"], [0.2222222222222222, \"#7201a8\"], [0.3333333333333333, \"#9c179e\"], [0.4444444444444444, \"#bd3786\"], [0.5555555555555556, \"#d8576b\"], [0.6666666666666666, \"#ed7953\"], [0.7777777777777778, \"#fb9f3a\"], [0.8888888888888888, \"#fdca26\"], [1.0, \"#f0f921\"]], \"sequentialminus\": [[0.0, \"#0d0887\"], [0.1111111111111111, \"#46039f\"], [0.2222222222222222, \"#7201a8\"], [0.3333333333333333, \"#9c179e\"], [0.4444444444444444, \"#bd3786\"], [0.5555555555555556, \"#d8576b\"], [0.6666666666666666, \"#ed7953\"], [0.7777777777777778, \"#fb9f3a\"], [0.8888888888888888, \"#fdca26\"], [1.0, \"#f0f921\"]]}, \"colorway\": [\"#636efa\", \"#EF553B\", \"#00cc96\", \"#ab63fa\", \"#FFA15A\", \"#19d3f3\", \"#FF6692\", \"#B6E880\", \"#FF97FF\", \"#FECB52\"], \"font\": {\"color\": \"#2a3f5f\"}, \"geo\": {\"bgcolor\": \"white\", \"lakecolor\": \"white\", \"landcolor\": \"#E5ECF6\", \"showlakes\": true, \"showland\": true, \"subunitcolor\": \"white\"}, \"hoverlabel\": {\"align\": \"left\"}, \"hovermode\": \"closest\", \"mapbox\": {\"style\": \"light\"}, \"paper_bgcolor\": \"white\", \"plot_bgcolor\": \"#E5ECF6\", \"polar\": {\"angularaxis\": {\"gridcolor\": \"white\", \"linecolor\": \"white\", \"ticks\": \"\"}, \"bgcolor\": \"#E5ECF6\", \"radialaxis\": {\"gridcolor\": \"white\", \"linecolor\": \"white\", \"ticks\": \"\"}}, \"scene\": {\"xaxis\": {\"backgroundcolor\": \"#E5ECF6\", \"gridcolor\": \"white\", \"gridwidth\": 2, \"linecolor\": \"white\", \"showbackground\": true, \"ticks\": \"\", \"zerolinecolor\": \"white\"}, \"yaxis\": {\"backgroundcolor\": \"#E5ECF6\", \"gridcolor\": \"white\", \"gridwidth\": 2, \"linecolor\": \"white\", \"showbackground\": true, \"ticks\": \"\", \"zerolinecolor\": \"white\"}, \"zaxis\": {\"backgroundcolor\": \"#E5ECF6\", \"gridcolor\": \"white\", \"gridwidth\": 2, \"linecolor\": \"white\", \"showbackground\": true, \"ticks\": \"\", \"zerolinecolor\": \"white\"}}, \"shapedefaults\": {\"line\": {\"color\": \"#2a3f5f\"}}, \"ternary\": {\"aaxis\": {\"gridcolor\": \"white\", \"linecolor\": \"white\", \"ticks\": \"\"}, \"baxis\": {\"gridcolor\": \"white\", \"linecolor\": \"white\", \"ticks\": \"\"}, \"bgcolor\": \"#E5ECF6\", \"caxis\": {\"gridcolor\": \"white\", \"linecolor\": \"white\", \"ticks\": \"\"}}, \"title\": {\"x\": 0.05}, \"xaxis\": {\"automargin\": true, \"gridcolor\": \"white\", \"linecolor\": \"white\", \"ticks\": \"\", \"title\": {\"standoff\": 15}, \"zerolinecolor\": \"white\", \"zerolinewidth\": 2}, \"yaxis\": {\"automargin\": true, \"gridcolor\": \"white\", \"linecolor\": \"white\", \"ticks\": \"\", \"title\": {\"standoff\": 15}, \"zerolinecolor\": \"white\", \"zerolinewidth\": 2}}}, \"width\": 800},\n",
              "                        {\"responsive\": true}\n",
              "                    ).then(function(){\n",
              "                            \n",
              "var gd = document.getElementById('84965eae-610a-4b3a-ba76-e9ba569ad04b');\n",
              "var x = new MutationObserver(function (mutations, observer) {{\n",
              "        var display = window.getComputedStyle(gd).display;\n",
              "        if (!display || display === 'none') {{\n",
              "            console.log([gd, 'removed!']);\n",
              "            Plotly.purge(gd);\n",
              "            observer.disconnect();\n",
              "        }}\n",
              "}});\n",
              "\n",
              "// Listen for the removal of the full notebook cells\n",
              "var notebookContainer = gd.closest('#notebook-container');\n",
              "if (notebookContainer) {{\n",
              "    x.observe(notebookContainer, {childList: true});\n",
              "}}\n",
              "\n",
              "// Listen for the clearing of the current output cell\n",
              "var outputEl = gd.closest('.output');\n",
              "if (outputEl) {{\n",
              "    x.observe(outputEl, {childList: true});\n",
              "}}\n",
              "\n",
              "                        })\n",
              "                };\n",
              "                \n",
              "            </script>\n",
              "        </div>\n",
              "</body>\n",
              "</html>"
            ]
          },
          "metadata": {
            "tags": []
          }
        }
      ]
    },
    {
      "cell_type": "markdown",
      "metadata": {
        "id": "cZP72_hmIxYj"
      },
      "source": [
        "###Largest cluster analysis (optional)"
      ]
    },
    {
      "cell_type": "code",
      "metadata": {
        "colab": {
          "base_uri": "https://localhost:8080/"
        },
        "id": "9UVn1g21FXc5",
        "outputId": "612adfd3-f7d2-45d4-af6f-96c5b8d8fa7b"
      },
      "source": [
        "#Largest cluster points extraction\r\n",
        "cluster_points = []\r\n",
        "\r\n",
        "for i in range(len(labels)):\r\n",
        "  if labels[i] == max_cluster:\r\n",
        "    cluster_points.append(feature_space[i])"
      ],
      "execution_count": null,
      "outputs": [
        {
          "output_type": "stream",
          "text": [
            "38\n"
          ],
          "name": "stdout"
        }
      ]
    },
    {
      "cell_type": "code",
      "metadata": {
        "id": "cNgWRRLlIwAS"
      },
      "source": [
        "# 3d scatterplot using plotly\r\n",
        "Scene = dict(xaxis=dict(title='Energy'),yaxis = dict(title='Acousticness'),zaxis = dict(title='Valence'))\r\n",
        "\r\n",
        "# Construction of axises matrix\r\n",
        "axises = np.zeros((len(cluster_points)+num_cluster, num_cluster))\r\n",
        "i = 0\r\n",
        "\r\n",
        "for triplet in cluster_points:\r\n",
        "  axises[i,0] = triplet[0]\r\n",
        "  axises[i,1] = triplet[1]\r\n",
        "  axises[i,2] = triplet[2]\r\n",
        "  i+=1\r\n",
        "\r\n",
        "# Plot\r\n",
        "trace = go.Scatter3d(x=axises[:len(cluster_points), 0], y=axises[:len(cluster_points), 1], z=axises[:len(cluster_points), 2], \r\n",
        "                     mode='markers',\r\n",
        "                     marker=dict(color = 'grey', size= 8, line=dict(color= 'black',width = 10)))\r\n",
        "\r\n",
        "layout = go.Layout(margin=dict(l=0,r=0),scene = Scene,height = 600,width = 600)\r\n",
        "data = [trace]\r\n",
        "fig = go.Figure(data = data, layout = layout)\r\n",
        "fig.show()"
      ],
      "execution_count": null,
      "outputs": []
    },
    {
      "cell_type": "code",
      "metadata": {
        "colab": {
          "base_uri": "https://localhost:8080/"
        },
        "id": "_P1uja8ZLR9r",
        "outputId": "9e5e1d70-3664-4a40-b9f4-d3b9dc0371ab"
      },
      "source": [
        "# Second clustering\r\n",
        "model = sklearn.cluster.KMeans(n_clusters = num_cluster)\r\n",
        "labels_max = model.fit_predict(cluster_points)\r\n",
        "\r\n",
        "# 3d scatterplot using plotly\r\n",
        "Scene = dict(xaxis=dict(title='Energy'),yaxis = dict(title='Acousticness'),zaxis = dict(title='Valence'))\r\n",
        "\r\n",
        "# Construction of axises matrix\r\n",
        "axises = np.zeros((len(cluster_points)+num_cluster, num_cluster))\r\n",
        "i = 0\r\n",
        "\r\n",
        "for triplet in cluster_points:\r\n",
        "  axises[i,0] = triplet[0]\r\n",
        "  axises[i,1] = triplet[1]\r\n",
        "  axises[i,2] = triplet[2]\r\n",
        "  i+=1\r\n",
        "\r\n",
        "# Plot\r\n",
        "trace = go.Scatter3d(x=axises[:len(cluster_points), 0], y=axises[:len(cluster_points), 1], z=axises[:len(cluster_points), 2], \r\n",
        "                     mode='markers',\r\n",
        "                     marker=dict(color = labels_max, size= 8, line=dict(color= 'black',width = 10)))\r\n",
        "\r\n",
        "layout = go.Layout(margin=dict(l=0,r=0),scene = Scene,height = 600,width = 600)\r\n",
        "data = [trace]\r\n",
        "fig = go.Figure(data = data, layout = layout)\r\n",
        "fig.show()"
      ],
      "execution_count": null,
      "outputs": [
        {
          "output_type": "display_data",
          "data": {
            "text/html": [
              "<html>\n",
              "<head><meta charset=\"utf-8\" /></head>\n",
              "<body>\n",
              "    <div>\n",
              "            <script src=\"https://cdnjs.cloudflare.com/ajax/libs/mathjax/2.7.5/MathJax.js?config=TeX-AMS-MML_SVG\"></script><script type=\"text/javascript\">if (window.MathJax) {MathJax.Hub.Config({SVG: {font: \"STIX-Web\"}});}</script>\n",
              "                <script type=\"text/javascript\">window.PlotlyConfig = {MathJaxConfig: 'local'};</script>\n",
              "        <script src=\"https://cdn.plot.ly/plotly-latest.min.js\"></script>    \n",
              "            <div id=\"aa648e29-bceb-4e92-a3d6-84ecb5025fb6\" class=\"plotly-graph-div\" style=\"height:800px; width:800px;\"></div>\n",
              "            <script type=\"text/javascript\">\n",
              "                \n",
              "                    window.PLOTLYENV=window.PLOTLYENV || {};\n",
              "                    \n",
              "                if (document.getElementById(\"aa648e29-bceb-4e92-a3d6-84ecb5025fb6\")) {\n",
              "                    Plotly.newPlot(\n",
              "                        'aa648e29-bceb-4e92-a3d6-84ecb5025fb6',\n",
              "                        [{\"marker\": {\"color\": [1, 2, 1, 1, 0, 1, 2, 0, 0, 1, 0, 1, 1, 0, 0, 0, 0, 0, 1, 2, 1, 0, 1, 1, 1, 1, 1, 2, 2, 2, 2, 2, 1, 0, 1, 1, 1, 2], \"line\": {\"color\": \"black\", \"width\": 10}, \"size\": 8}, \"mode\": \"markers\", \"type\": \"scatter3d\", \"x\": [0.573, 0.752, 0.735, 0.626, 0.392, 0.813, 0.498, 0.358, 0.366, 0.468, 0.485, 0.672, 0.587, 0.366, 0.15, 0.375, 0.322, 0.301, 0.593, 0.652, 0.685, 0.354, 0.654, 0.536, 0.594, 0.653, 0.831, 0.425, 0.599, 0.533, 0.488, 0.474, 0.538, 0.318, 0.446, 0.607, 0.718, 0.508], \"y\": [0.118, 0.552, 0.0711, 0.00572, 0.219, 0.0359, 0.23, 0.399, 0.04, 0.0473, 0.337, 0.00559, 0.141, 0.15, 0.243, 0.391, 0.366, 0.221, 0.17, 0.343, 0.0246, 0.258, 0.194, 0.0838, 0.0214, 0.0266, 0.082, 0.328, 0.333, 0.462, 0.26, 0.24, 0.06, 0.317, 0.025, 0.014, 0.0483, 0.376], \"z\": [0.438, 0.236, 0.409, 0.346, 0.103, 0.373, 0.413, 0.312, 0.153, 0.377, 0.144, 0.0648, 0.486, 0.171, 0.121, 0.258, 0.142, 0.19, 0.175, 0.487, 0.424, 0.166, 0.232, 0.204, 0.303, 0.505, 0.345, 0.562, 0.35, 0.323, 0.542, 0.422, 0.529, 0.24, 0.356, 0.202, 0.426, 0.554]}],\n",
              "                        {\"height\": 800, \"margin\": {\"l\": 0, \"r\": 0}, \"scene\": {\"xaxis\": {\"title\": {\"text\": \"Energy\"}}, \"yaxis\": {\"title\": {\"text\": \"Acousticness\"}}, \"zaxis\": {\"title\": {\"text\": \"Valence\"}}}, \"template\": {\"data\": {\"bar\": [{\"error_x\": {\"color\": \"#2a3f5f\"}, \"error_y\": {\"color\": \"#2a3f5f\"}, \"marker\": {\"line\": {\"color\": \"#E5ECF6\", \"width\": 0.5}}, \"type\": \"bar\"}], \"barpolar\": [{\"marker\": {\"line\": {\"color\": \"#E5ECF6\", \"width\": 0.5}}, \"type\": \"barpolar\"}], \"carpet\": [{\"aaxis\": {\"endlinecolor\": \"#2a3f5f\", \"gridcolor\": \"white\", \"linecolor\": \"white\", \"minorgridcolor\": \"white\", \"startlinecolor\": \"#2a3f5f\"}, \"baxis\": {\"endlinecolor\": \"#2a3f5f\", \"gridcolor\": \"white\", \"linecolor\": \"white\", \"minorgridcolor\": \"white\", \"startlinecolor\": \"#2a3f5f\"}, \"type\": \"carpet\"}], \"choropleth\": [{\"colorbar\": {\"outlinewidth\": 0, \"ticks\": \"\"}, \"type\": \"choropleth\"}], \"contour\": [{\"colorbar\": {\"outlinewidth\": 0, \"ticks\": \"\"}, \"colorscale\": [[0.0, \"#0d0887\"], [0.1111111111111111, \"#46039f\"], [0.2222222222222222, \"#7201a8\"], [0.3333333333333333, \"#9c179e\"], [0.4444444444444444, \"#bd3786\"], [0.5555555555555556, \"#d8576b\"], [0.6666666666666666, \"#ed7953\"], [0.7777777777777778, \"#fb9f3a\"], [0.8888888888888888, \"#fdca26\"], [1.0, \"#f0f921\"]], \"type\": \"contour\"}], \"contourcarpet\": [{\"colorbar\": {\"outlinewidth\": 0, \"ticks\": \"\"}, \"type\": \"contourcarpet\"}], \"heatmap\": [{\"colorbar\": {\"outlinewidth\": 0, \"ticks\": \"\"}, \"colorscale\": [[0.0, \"#0d0887\"], [0.1111111111111111, \"#46039f\"], [0.2222222222222222, \"#7201a8\"], [0.3333333333333333, \"#9c179e\"], [0.4444444444444444, \"#bd3786\"], [0.5555555555555556, \"#d8576b\"], [0.6666666666666666, \"#ed7953\"], [0.7777777777777778, \"#fb9f3a\"], [0.8888888888888888, \"#fdca26\"], [1.0, \"#f0f921\"]], \"type\": \"heatmap\"}], \"heatmapgl\": [{\"colorbar\": {\"outlinewidth\": 0, \"ticks\": \"\"}, \"colorscale\": [[0.0, \"#0d0887\"], [0.1111111111111111, \"#46039f\"], [0.2222222222222222, \"#7201a8\"], [0.3333333333333333, \"#9c179e\"], [0.4444444444444444, \"#bd3786\"], [0.5555555555555556, \"#d8576b\"], [0.6666666666666666, \"#ed7953\"], [0.7777777777777778, \"#fb9f3a\"], [0.8888888888888888, \"#fdca26\"], [1.0, \"#f0f921\"]], \"type\": \"heatmapgl\"}], \"histogram\": [{\"marker\": {\"colorbar\": {\"outlinewidth\": 0, \"ticks\": \"\"}}, \"type\": \"histogram\"}], \"histogram2d\": [{\"colorbar\": {\"outlinewidth\": 0, \"ticks\": \"\"}, \"colorscale\": [[0.0, \"#0d0887\"], [0.1111111111111111, \"#46039f\"], [0.2222222222222222, \"#7201a8\"], [0.3333333333333333, \"#9c179e\"], [0.4444444444444444, \"#bd3786\"], [0.5555555555555556, \"#d8576b\"], [0.6666666666666666, \"#ed7953\"], [0.7777777777777778, \"#fb9f3a\"], [0.8888888888888888, \"#fdca26\"], [1.0, \"#f0f921\"]], \"type\": \"histogram2d\"}], \"histogram2dcontour\": [{\"colorbar\": {\"outlinewidth\": 0, \"ticks\": \"\"}, \"colorscale\": [[0.0, \"#0d0887\"], [0.1111111111111111, \"#46039f\"], [0.2222222222222222, \"#7201a8\"], [0.3333333333333333, \"#9c179e\"], [0.4444444444444444, \"#bd3786\"], [0.5555555555555556, \"#d8576b\"], [0.6666666666666666, \"#ed7953\"], [0.7777777777777778, \"#fb9f3a\"], [0.8888888888888888, \"#fdca26\"], [1.0, \"#f0f921\"]], \"type\": \"histogram2dcontour\"}], \"mesh3d\": [{\"colorbar\": {\"outlinewidth\": 0, \"ticks\": \"\"}, \"type\": \"mesh3d\"}], \"parcoords\": [{\"line\": {\"colorbar\": {\"outlinewidth\": 0, \"ticks\": \"\"}}, \"type\": \"parcoords\"}], \"pie\": [{\"automargin\": true, \"type\": \"pie\"}], \"scatter\": [{\"marker\": {\"colorbar\": {\"outlinewidth\": 0, \"ticks\": \"\"}}, \"type\": \"scatter\"}], \"scatter3d\": [{\"line\": {\"colorbar\": {\"outlinewidth\": 0, \"ticks\": \"\"}}, \"marker\": {\"colorbar\": {\"outlinewidth\": 0, \"ticks\": \"\"}}, \"type\": \"scatter3d\"}], \"scattercarpet\": [{\"marker\": {\"colorbar\": {\"outlinewidth\": 0, \"ticks\": \"\"}}, \"type\": \"scattercarpet\"}], \"scattergeo\": [{\"marker\": {\"colorbar\": {\"outlinewidth\": 0, \"ticks\": \"\"}}, \"type\": \"scattergeo\"}], \"scattergl\": [{\"marker\": {\"colorbar\": {\"outlinewidth\": 0, \"ticks\": \"\"}}, \"type\": \"scattergl\"}], \"scattermapbox\": [{\"marker\": {\"colorbar\": {\"outlinewidth\": 0, \"ticks\": \"\"}}, \"type\": \"scattermapbox\"}], \"scatterpolar\": [{\"marker\": {\"colorbar\": {\"outlinewidth\": 0, \"ticks\": \"\"}}, \"type\": \"scatterpolar\"}], \"scatterpolargl\": [{\"marker\": {\"colorbar\": {\"outlinewidth\": 0, \"ticks\": \"\"}}, \"type\": \"scatterpolargl\"}], \"scatterternary\": [{\"marker\": {\"colorbar\": {\"outlinewidth\": 0, \"ticks\": \"\"}}, \"type\": \"scatterternary\"}], \"surface\": [{\"colorbar\": {\"outlinewidth\": 0, \"ticks\": \"\"}, \"colorscale\": [[0.0, \"#0d0887\"], [0.1111111111111111, \"#46039f\"], [0.2222222222222222, \"#7201a8\"], [0.3333333333333333, \"#9c179e\"], [0.4444444444444444, \"#bd3786\"], [0.5555555555555556, \"#d8576b\"], [0.6666666666666666, \"#ed7953\"], [0.7777777777777778, \"#fb9f3a\"], [0.8888888888888888, \"#fdca26\"], [1.0, \"#f0f921\"]], \"type\": \"surface\"}], \"table\": [{\"cells\": {\"fill\": {\"color\": \"#EBF0F8\"}, \"line\": {\"color\": \"white\"}}, \"header\": {\"fill\": {\"color\": \"#C8D4E3\"}, \"line\": {\"color\": \"white\"}}, \"type\": \"table\"}]}, \"layout\": {\"annotationdefaults\": {\"arrowcolor\": \"#2a3f5f\", \"arrowhead\": 0, \"arrowwidth\": 1}, \"coloraxis\": {\"colorbar\": {\"outlinewidth\": 0, \"ticks\": \"\"}}, \"colorscale\": {\"diverging\": [[0, \"#8e0152\"], [0.1, \"#c51b7d\"], [0.2, \"#de77ae\"], [0.3, \"#f1b6da\"], [0.4, \"#fde0ef\"], [0.5, \"#f7f7f7\"], [0.6, \"#e6f5d0\"], [0.7, \"#b8e186\"], [0.8, \"#7fbc41\"], [0.9, \"#4d9221\"], [1, \"#276419\"]], \"sequential\": [[0.0, \"#0d0887\"], [0.1111111111111111, \"#46039f\"], [0.2222222222222222, \"#7201a8\"], [0.3333333333333333, \"#9c179e\"], [0.4444444444444444, \"#bd3786\"], [0.5555555555555556, \"#d8576b\"], [0.6666666666666666, \"#ed7953\"], [0.7777777777777778, \"#fb9f3a\"], [0.8888888888888888, \"#fdca26\"], [1.0, \"#f0f921\"]], \"sequentialminus\": [[0.0, \"#0d0887\"], [0.1111111111111111, \"#46039f\"], [0.2222222222222222, \"#7201a8\"], [0.3333333333333333, \"#9c179e\"], [0.4444444444444444, \"#bd3786\"], [0.5555555555555556, \"#d8576b\"], [0.6666666666666666, \"#ed7953\"], [0.7777777777777778, \"#fb9f3a\"], [0.8888888888888888, \"#fdca26\"], [1.0, \"#f0f921\"]]}, \"colorway\": [\"#636efa\", \"#EF553B\", \"#00cc96\", \"#ab63fa\", \"#FFA15A\", \"#19d3f3\", \"#FF6692\", \"#B6E880\", \"#FF97FF\", \"#FECB52\"], \"font\": {\"color\": \"#2a3f5f\"}, \"geo\": {\"bgcolor\": \"white\", \"lakecolor\": \"white\", \"landcolor\": \"#E5ECF6\", \"showlakes\": true, \"showland\": true, \"subunitcolor\": \"white\"}, \"hoverlabel\": {\"align\": \"left\"}, \"hovermode\": \"closest\", \"mapbox\": {\"style\": \"light\"}, \"paper_bgcolor\": \"white\", \"plot_bgcolor\": \"#E5ECF6\", \"polar\": {\"angularaxis\": {\"gridcolor\": \"white\", \"linecolor\": \"white\", \"ticks\": \"\"}, \"bgcolor\": \"#E5ECF6\", \"radialaxis\": {\"gridcolor\": \"white\", \"linecolor\": \"white\", \"ticks\": \"\"}}, \"scene\": {\"xaxis\": {\"backgroundcolor\": \"#E5ECF6\", \"gridcolor\": \"white\", \"gridwidth\": 2, \"linecolor\": \"white\", \"showbackground\": true, \"ticks\": \"\", \"zerolinecolor\": \"white\"}, \"yaxis\": {\"backgroundcolor\": \"#E5ECF6\", \"gridcolor\": \"white\", \"gridwidth\": 2, \"linecolor\": \"white\", \"showbackground\": true, \"ticks\": \"\", \"zerolinecolor\": \"white\"}, \"zaxis\": {\"backgroundcolor\": \"#E5ECF6\", \"gridcolor\": \"white\", \"gridwidth\": 2, \"linecolor\": \"white\", \"showbackground\": true, \"ticks\": \"\", \"zerolinecolor\": \"white\"}}, \"shapedefaults\": {\"line\": {\"color\": \"#2a3f5f\"}}, \"ternary\": {\"aaxis\": {\"gridcolor\": \"white\", \"linecolor\": \"white\", \"ticks\": \"\"}, \"baxis\": {\"gridcolor\": \"white\", \"linecolor\": \"white\", \"ticks\": \"\"}, \"bgcolor\": \"#E5ECF6\", \"caxis\": {\"gridcolor\": \"white\", \"linecolor\": \"white\", \"ticks\": \"\"}}, \"title\": {\"x\": 0.05}, \"xaxis\": {\"automargin\": true, \"gridcolor\": \"white\", \"linecolor\": \"white\", \"ticks\": \"\", \"title\": {\"standoff\": 15}, \"zerolinecolor\": \"white\", \"zerolinewidth\": 2}, \"yaxis\": {\"automargin\": true, \"gridcolor\": \"white\", \"linecolor\": \"white\", \"ticks\": \"\", \"title\": {\"standoff\": 15}, \"zerolinecolor\": \"white\", \"zerolinewidth\": 2}}}, \"width\": 800},\n",
              "                        {\"responsive\": true}\n",
              "                    ).then(function(){\n",
              "                            \n",
              "var gd = document.getElementById('aa648e29-bceb-4e92-a3d6-84ecb5025fb6');\n",
              "var x = new MutationObserver(function (mutations, observer) {{\n",
              "        var display = window.getComputedStyle(gd).display;\n",
              "        if (!display || display === 'none') {{\n",
              "            console.log([gd, 'removed!']);\n",
              "            Plotly.purge(gd);\n",
              "            observer.disconnect();\n",
              "        }}\n",
              "}});\n",
              "\n",
              "// Listen for the removal of the full notebook cells\n",
              "var notebookContainer = gd.closest('#notebook-container');\n",
              "if (notebookContainer) {{\n",
              "    x.observe(notebookContainer, {childList: true});\n",
              "}}\n",
              "\n",
              "// Listen for the clearing of the current output cell\n",
              "var outputEl = gd.closest('.output');\n",
              "if (outputEl) {{\n",
              "    x.observe(outputEl, {childList: true});\n",
              "}}\n",
              "\n",
              "                        })\n",
              "                };\n",
              "                \n",
              "            </script>\n",
              "        </div>\n",
              "</body>\n",
              "</html>"
            ]
          },
          "metadata": {
            "tags": []
          }
        }
      ]
    },
    {
      "cell_type": "markdown",
      "metadata": {
        "id": "H_GGhSsP0qJA"
      },
      "source": [
        "##**Palette extraction**"
      ]
    },
    {
      "cell_type": "markdown",
      "metadata": {
        "id": "qbTRWISFhu0O"
      },
      "source": [
        "###Color mapping"
      ]
    },
    {
      "cell_type": "code",
      "metadata": {
        "id": "m6GbTp91-Oce"
      },
      "source": [
        "# Mapping definition\r\n",
        "def ycbcrtorgb(y, cb, cr):\r\n",
        "       r = (y + 1.402 * (cr-128))/255\r\n",
        "       if r > 1: r = 1\r\n",
        "       if r < 0: r = 0\r\n",
        "\r\n",
        "       g = (y - .34414 * (cb-128) -  .71414 * (cr-128))/255\r\n",
        "       if g > 1: g = 1\r\n",
        "       if g < 0: g = 0\r\n",
        "\r\n",
        "       b = (y + 1.772 * (cb-128))/255\r\n",
        "       if b > 1: b = 1\r\n",
        "       if b < 0: b = 0\r\n",
        "\r\n",
        "       return r, g, b"
      ],
      "execution_count": null,
      "outputs": []
    },
    {
      "cell_type": "code",
      "metadata": {
        "id": "wDTl0k1Y0tt0"
      },
      "source": [
        "# Features-to-color mapping  (energy, acousticness, valence) ---> (Cr, Cb, Y)\r\n",
        "# YCbCr ranges: Y = [16:235], Cb = [16:240], Cr = [16:240]\r\n",
        "\r\n",
        "colors = np.zeros((num_cluster,3))\r\n",
        "colors_rgb = []\r\n",
        "index = 0\r\n",
        "\r\n",
        "for triplet in centers:  \r\n",
        "\r\n",
        "  # Y\r\n",
        "  colors[index, 2] = 16*(1-triplet[1]) + 235*triplet[1]\r\n",
        "  # Cb\r\n",
        "  colors[index, 1] = 16*(1-triplet[2]) + 240*triplet[2]\r\n",
        "  # Cr\r\n",
        "  colors[index, 0] = 16*(1-triplet[0]) + 240*triplet[0]\r\n",
        "\r\n",
        "  image = np.zeros((1,3))\r\n",
        "\r\n",
        "  colors_rgb.append(ycbcrtorgb(colors[index,0], colors[index,1], colors[index,2]))\r\n",
        "\r\n",
        "  index += 1"
      ],
      "execution_count": null,
      "outputs": []
    },
    {
      "cell_type": "markdown",
      "metadata": {
        "id": "4FXrX8dmMQ-s"
      },
      "source": [
        "###Palette plot"
      ]
    },
    {
      "cell_type": "code",
      "metadata": {
        "id": "RyNLVNntKEq4",
        "colab": {
          "base_uri": "https://localhost:8080/",
          "height": 485
        },
        "outputId": "a8c741b5-3d03-41d1-fff9-0608eada5092"
      },
      "source": [
        "# Pie plot\r\n",
        "plt.pie(cardinalità, colors = colors_rgb, radius = 2)"
      ],
      "execution_count": null,
      "outputs": [
        {
          "output_type": "execute_result",
          "data": {
            "text/plain": [
              "([<matplotlib.patches.Wedge at 0x7f7b8f4dbfd0>,\n",
              "  <matplotlib.patches.Wedge at 0x7f7b8f4e7550>,\n",
              "  <matplotlib.patches.Wedge at 0x7f7b8f4e7a58>],\n",
              " [Text(0.8098740465485804, 2.0455082568220124, ''),\n",
              "  Text(-2.172914368642616, -0.3441557010227532, ''),\n",
              "  Text(1.1198910366411619, -1.8936325055434553, '')])"
            ]
          },
          "metadata": {
            "tags": []
          },
          "execution_count": 23
        },
        {
          "output_type": "display_data",
          "data": {
            "image/png": "[encoded data removed]",
            "text/plain": [
              "<Figure size 432x288 with 1 Axes>"
            ]
          },
          "metadata": {
            "tags": []
          }
        }
      ]
    }
  ]
}